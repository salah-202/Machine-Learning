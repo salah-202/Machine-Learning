{
 "cells": [
  {
   "cell_type": "markdown",
   "metadata": {},
   "source": [
    "## Understanding and Predicting Property Maintenance Fines\n",
    "\n",
    "This project is based on a data challenge from the Michigan Data Science Team ([MDST](http://midas.umich.edu/mdst/)). \n",
    "\n",
    "The Michigan Data Science Team ([MDST](http://midas.umich.edu/mdst/)) and the Michigan Student Symposium for Interdisciplinary Statistical Sciences ([MSSISS](https://sites.lsa.umich.edu/mssiss/)) have partnered with the City of Detroit to help solve one of the most pressing problems facing Detroit - blight. [Blight violations](http://www.detroitmi.gov/How-Do-I/Report/Blight-Complaint-FAQs) are issued by the city to individuals who allow their properties to remain in a deteriorated condition. Every year, the city of Detroit issues millions of dollars in fines to residents and every year, many of these fines remain unpaid. Enforcing unpaid blight fines is a costly and tedious process, so the city wants to know: how can we increase blight ticket compliance?\n",
    "\n",
    "The first step in answering this question is understanding when and why a resident might fail to comply with a blight ticket. This is where predictive modeling comes in. For this project, the task is to predict whether a given blight ticket will be paid on time.\n",
    "\n",
    "All data for this assignment has been provided to us through the [Detroit Open Data Portal](https://data.detroitmi.gov/). \n",
    "\n",
    "**Data fields**\n",
    "\n",
    "train.csv & test.csv\n",
    "\n",
    "    ticket_id - unique identifier for tickets\n",
    "    agency_name - Agency that issued the ticket\n",
    "    inspector_name - Name of inspector that issued the ticket\n",
    "    violator_name - Name of the person/organization that the ticket was issued to\n",
    "    violation_street_number, violation_street_name, violation_zip_code - Address where the violation occurred\n",
    "    mailing_address_str_number, mailing_address_str_name, city, state, zip_code, non_us_str_code, country - Mailing address of     the violator\n",
    "    ticket_issued_date - Date and time the ticket was issued\n",
    "    hearing_date - Date and time the violator's hearing was scheduled\n",
    "    violation_code, violation_description - Type of violation\n",
    "    disposition - Judgment and judgement type\n",
    "    fine_amount - Violation fine amount, excluding fees\n",
    "    admin_fee - $20 fee assigned to responsible judgments\n",
    "    state_fee - $10 fee assigned to responsible judgments\n",
    "    late_fee - 10% fee assigned to responsible judgments\n",
    "    discount_amount - discount applied, if any\n",
    "    clean_up_cost - DPW clean-up or graffiti removal cost\n",
    "    judgment_amount - Sum of all fines and fees\n",
    "    grafitti_status - Flag for graffiti violations\n",
    "    payment_amount - Amount paid, if any\n",
    "    payment_date - Date payment was made, if it was received\n",
    "    payment_status - Current payment status as of Feb 1 2017\n",
    "    balance_due - Fines and fees still owed\n",
    "    collection_status - Flag for payments in collections\n",
    "    compliance [target variable for prediction] \n",
    "     Null = Not responsible\n",
    "     0 = Responsible, non-compliant\n",
    "     1 = Responsible, compliant\n",
    "    compliance_detail - More information on why each ticket was marked compliant or non-compliant"
   ]
  },
  {
   "cell_type": "markdown",
   "metadata": {},
   "source": [
    "### Import the Packages"
   ]
  },
  {
   "cell_type": "code",
   "execution_count": 1,
   "metadata": {},
   "outputs": [],
   "source": [
    "import pandas as pd\n",
    "import numpy as np\n",
    "from sklearn.model_selection import train_test_split\n",
    "from sklearn.ensemble import RandomForestClassifier\n",
    "from sklearn.metrics import roc_auc_score,accuracy_score"
   ]
  },
  {
   "cell_type": "markdown",
   "metadata": {},
   "source": [
    "# Data Warngling"
   ]
  },
  {
   "cell_type": "markdown",
   "metadata": {},
   "source": [
    "### Load the dataset"
   ]
  },
  {
   "cell_type": "code",
   "execution_count": 2,
   "metadata": {},
   "outputs": [
    {
     "name": "stderr",
     "output_type": "stream",
     "text": [
      "C:\\Users\\Salah Mohamed\\anaconda3\\lib\\site-packages\\IPython\\core\\interactiveshell.py:3165: DtypeWarning: Columns (11,12,31) have mixed types.Specify dtype option on import or set low_memory=False.\n",
      "  has_raised = await self.run_ast_nodes(code_ast.body, cell_name,\n"
     ]
    },
    {
     "data": {
      "text/html": [
       "<div>\n",
       "<style scoped>\n",
       "    .dataframe tbody tr th:only-of-type {\n",
       "        vertical-align: middle;\n",
       "    }\n",
       "\n",
       "    .dataframe tbody tr th {\n",
       "        vertical-align: top;\n",
       "    }\n",
       "\n",
       "    .dataframe thead th {\n",
       "        text-align: right;\n",
       "    }\n",
       "</style>\n",
       "<table border=\"1\" class=\"dataframe\">\n",
       "  <thead>\n",
       "    <tr style=\"text-align: right;\">\n",
       "      <th></th>\n",
       "      <th>ticket_id</th>\n",
       "      <th>agency_name</th>\n",
       "      <th>inspector_name</th>\n",
       "      <th>violator_name</th>\n",
       "      <th>violation_street_number</th>\n",
       "      <th>violation_street_name</th>\n",
       "      <th>violation_zip_code</th>\n",
       "      <th>mailing_address_str_number</th>\n",
       "      <th>mailing_address_str_name</th>\n",
       "      <th>city</th>\n",
       "      <th>...</th>\n",
       "      <th>clean_up_cost</th>\n",
       "      <th>judgment_amount</th>\n",
       "      <th>payment_amount</th>\n",
       "      <th>balance_due</th>\n",
       "      <th>payment_date</th>\n",
       "      <th>payment_status</th>\n",
       "      <th>collection_status</th>\n",
       "      <th>grafitti_status</th>\n",
       "      <th>compliance_detail</th>\n",
       "      <th>compliance</th>\n",
       "    </tr>\n",
       "  </thead>\n",
       "  <tbody>\n",
       "    <tr>\n",
       "      <th>0</th>\n",
       "      <td>22056</td>\n",
       "      <td>Buildings, Safety Engineering &amp; Env Department</td>\n",
       "      <td>Sims, Martinzie</td>\n",
       "      <td>INVESTMENT INC., MIDWEST MORTGAGE</td>\n",
       "      <td>2900.0</td>\n",
       "      <td>TYLER</td>\n",
       "      <td>NaN</td>\n",
       "      <td>3.0</td>\n",
       "      <td>S. WICKER</td>\n",
       "      <td>CHICAGO</td>\n",
       "      <td>...</td>\n",
       "      <td>0.0</td>\n",
       "      <td>305.0</td>\n",
       "      <td>0.0</td>\n",
       "      <td>305.0</td>\n",
       "      <td>NaN</td>\n",
       "      <td>NO PAYMENT APPLIED</td>\n",
       "      <td>NaN</td>\n",
       "      <td>NaN</td>\n",
       "      <td>non-compliant by no payment</td>\n",
       "      <td>0.0</td>\n",
       "    </tr>\n",
       "    <tr>\n",
       "      <th>1</th>\n",
       "      <td>27586</td>\n",
       "      <td>Buildings, Safety Engineering &amp; Env Department</td>\n",
       "      <td>Williams, Darrin</td>\n",
       "      <td>Michigan, Covenant House</td>\n",
       "      <td>4311.0</td>\n",
       "      <td>CENTRAL</td>\n",
       "      <td>NaN</td>\n",
       "      <td>2959.0</td>\n",
       "      <td>Martin Luther King</td>\n",
       "      <td>Detroit</td>\n",
       "      <td>...</td>\n",
       "      <td>0.0</td>\n",
       "      <td>855.0</td>\n",
       "      <td>780.0</td>\n",
       "      <td>75.0</td>\n",
       "      <td>2005-06-02 00:00:00</td>\n",
       "      <td>PAID IN FULL</td>\n",
       "      <td>NaN</td>\n",
       "      <td>NaN</td>\n",
       "      <td>compliant by late payment within 1 month</td>\n",
       "      <td>1.0</td>\n",
       "    </tr>\n",
       "    <tr>\n",
       "      <th>2</th>\n",
       "      <td>22062</td>\n",
       "      <td>Buildings, Safety Engineering &amp; Env Department</td>\n",
       "      <td>Sims, Martinzie</td>\n",
       "      <td>SANDERS, DERRON</td>\n",
       "      <td>1449.0</td>\n",
       "      <td>LONGFELLOW</td>\n",
       "      <td>NaN</td>\n",
       "      <td>23658.0</td>\n",
       "      <td>P.O. BOX</td>\n",
       "      <td>DETROIT</td>\n",
       "      <td>...</td>\n",
       "      <td>0.0</td>\n",
       "      <td>0.0</td>\n",
       "      <td>0.0</td>\n",
       "      <td>0.0</td>\n",
       "      <td>NaN</td>\n",
       "      <td>NO PAYMENT APPLIED</td>\n",
       "      <td>NaN</td>\n",
       "      <td>NaN</td>\n",
       "      <td>not responsible by disposition</td>\n",
       "      <td>NaN</td>\n",
       "    </tr>\n",
       "    <tr>\n",
       "      <th>3</th>\n",
       "      <td>22084</td>\n",
       "      <td>Buildings, Safety Engineering &amp; Env Department</td>\n",
       "      <td>Sims, Martinzie</td>\n",
       "      <td>MOROSI, MIKE</td>\n",
       "      <td>1441.0</td>\n",
       "      <td>LONGFELLOW</td>\n",
       "      <td>NaN</td>\n",
       "      <td>5.0</td>\n",
       "      <td>ST. CLAIR</td>\n",
       "      <td>DETROIT</td>\n",
       "      <td>...</td>\n",
       "      <td>0.0</td>\n",
       "      <td>0.0</td>\n",
       "      <td>0.0</td>\n",
       "      <td>0.0</td>\n",
       "      <td>NaN</td>\n",
       "      <td>NO PAYMENT APPLIED</td>\n",
       "      <td>NaN</td>\n",
       "      <td>NaN</td>\n",
       "      <td>not responsible by disposition</td>\n",
       "      <td>NaN</td>\n",
       "    </tr>\n",
       "    <tr>\n",
       "      <th>4</th>\n",
       "      <td>22093</td>\n",
       "      <td>Buildings, Safety Engineering &amp; Env Department</td>\n",
       "      <td>Sims, Martinzie</td>\n",
       "      <td>NATHANIEL, NEAL</td>\n",
       "      <td>2449.0</td>\n",
       "      <td>CHURCHILL</td>\n",
       "      <td>NaN</td>\n",
       "      <td>7449.0</td>\n",
       "      <td>CHURCHILL</td>\n",
       "      <td>DETROIT</td>\n",
       "      <td>...</td>\n",
       "      <td>0.0</td>\n",
       "      <td>0.0</td>\n",
       "      <td>0.0</td>\n",
       "      <td>0.0</td>\n",
       "      <td>NaN</td>\n",
       "      <td>NO PAYMENT APPLIED</td>\n",
       "      <td>NaN</td>\n",
       "      <td>NaN</td>\n",
       "      <td>not responsible by disposition</td>\n",
       "      <td>NaN</td>\n",
       "    </tr>\n",
       "  </tbody>\n",
       "</table>\n",
       "<p>5 rows × 34 columns</p>\n",
       "</div>"
      ],
      "text/plain": [
       "   ticket_id                                     agency_name  \\\n",
       "0      22056  Buildings, Safety Engineering & Env Department   \n",
       "1      27586  Buildings, Safety Engineering & Env Department   \n",
       "2      22062  Buildings, Safety Engineering & Env Department   \n",
       "3      22084  Buildings, Safety Engineering & Env Department   \n",
       "4      22093  Buildings, Safety Engineering & Env Department   \n",
       "\n",
       "     inspector_name                      violator_name  \\\n",
       "0   Sims, Martinzie  INVESTMENT INC., MIDWEST MORTGAGE   \n",
       "1  Williams, Darrin           Michigan, Covenant House   \n",
       "2   Sims, Martinzie                    SANDERS, DERRON   \n",
       "3   Sims, Martinzie                       MOROSI, MIKE   \n",
       "4   Sims, Martinzie                    NATHANIEL, NEAL   \n",
       "\n",
       "   violation_street_number violation_street_name  violation_zip_code  \\\n",
       "0                   2900.0                 TYLER                 NaN   \n",
       "1                   4311.0               CENTRAL                 NaN   \n",
       "2                   1449.0            LONGFELLOW                 NaN   \n",
       "3                   1441.0            LONGFELLOW                 NaN   \n",
       "4                   2449.0             CHURCHILL                 NaN   \n",
       "\n",
       "   mailing_address_str_number mailing_address_str_name     city  ...  \\\n",
       "0                         3.0                S. WICKER  CHICAGO  ...   \n",
       "1                      2959.0       Martin Luther King  Detroit  ...   \n",
       "2                     23658.0                 P.O. BOX  DETROIT  ...   \n",
       "3                         5.0                ST. CLAIR  DETROIT  ...   \n",
       "4                      7449.0                CHURCHILL  DETROIT  ...   \n",
       "\n",
       "  clean_up_cost judgment_amount payment_amount balance_due  \\\n",
       "0           0.0           305.0            0.0       305.0   \n",
       "1           0.0           855.0          780.0        75.0   \n",
       "2           0.0             0.0            0.0         0.0   \n",
       "3           0.0             0.0            0.0         0.0   \n",
       "4           0.0             0.0            0.0         0.0   \n",
       "\n",
       "          payment_date      payment_status collection_status grafitti_status  \\\n",
       "0                  NaN  NO PAYMENT APPLIED               NaN             NaN   \n",
       "1  2005-06-02 00:00:00        PAID IN FULL               NaN             NaN   \n",
       "2                  NaN  NO PAYMENT APPLIED               NaN             NaN   \n",
       "3                  NaN  NO PAYMENT APPLIED               NaN             NaN   \n",
       "4                  NaN  NO PAYMENT APPLIED               NaN             NaN   \n",
       "\n",
       "                          compliance_detail  compliance  \n",
       "0               non-compliant by no payment         0.0  \n",
       "1  compliant by late payment within 1 month         1.0  \n",
       "2            not responsible by disposition         NaN  \n",
       "3            not responsible by disposition         NaN  \n",
       "4            not responsible by disposition         NaN  \n",
       "\n",
       "[5 rows x 34 columns]"
      ]
     },
     "execution_count": 2,
     "metadata": {},
     "output_type": "execute_result"
    }
   ],
   "source": [
    "train_data = pd.read_csv(\"readonly/train.csv\")\n",
    "train_data.head()"
   ]
  },
  {
   "cell_type": "code",
   "execution_count": 3,
   "metadata": {},
   "outputs": [
    {
     "data": {
      "text/plain": [
       "ticket_id                     250306\n",
       "agency_name                        5\n",
       "inspector_name                   173\n",
       "violator_name                 119992\n",
       "violation_street_number        19175\n",
       "violation_street_name           1791\n",
       "violation_zip_code                 0\n",
       "mailing_address_str_number     15826\n",
       "mailing_address_str_name       37896\n",
       "city                            5184\n",
       "state                             59\n",
       "zip_code                        5642\n",
       "non_us_str_code                    2\n",
       "country                            5\n",
       "ticket_issued_date             86979\n",
       "hearing_date                    6222\n",
       "violation_code                   235\n",
       "violation_description            258\n",
       "disposition                        9\n",
       "fine_amount                       43\n",
       "admin_fee                          2\n",
       "state_fee                          2\n",
       "late_fee                          37\n",
       "discount_amount                   13\n",
       "clean_up_cost                      1\n",
       "judgment_amount                   57\n",
       "payment_amount                   533\n",
       "balance_due                      606\n",
       "payment_date                    2307\n",
       "payment_status                     3\n",
       "collection_status                  1\n",
       "grafitti_status                    1\n",
       "compliance_detail                 10\n",
       "compliance                         2\n",
       "dtype: int64"
      ]
     },
     "execution_count": 3,
     "metadata": {},
     "output_type": "execute_result"
    }
   ],
   "source": [
    "train_data.nunique()"
   ]
  },
  {
   "cell_type": "code",
   "execution_count": 4,
   "metadata": {},
   "outputs": [
    {
     "name": "stdout",
     "output_type": "stream",
     "text": [
      "<class 'pandas.core.frame.DataFrame'>\n",
      "RangeIndex: 250306 entries, 0 to 250305\n",
      "Data columns (total 34 columns):\n",
      " #   Column                      Non-Null Count   Dtype  \n",
      "---  ------                      --------------   -----  \n",
      " 0   ticket_id                   250306 non-null  int64  \n",
      " 1   agency_name                 250306 non-null  object \n",
      " 2   inspector_name              250306 non-null  object \n",
      " 3   violator_name               250272 non-null  object \n",
      " 4   violation_street_number     250306 non-null  float64\n",
      " 5   violation_street_name       250306 non-null  object \n",
      " 6   violation_zip_code          0 non-null       float64\n",
      " 7   mailing_address_str_number  246704 non-null  float64\n",
      " 8   mailing_address_str_name    250302 non-null  object \n",
      " 9   city                        250306 non-null  object \n",
      " 10  state                       250213 non-null  object \n",
      " 11  zip_code                    250305 non-null  object \n",
      " 12  non_us_str_code             3 non-null       object \n",
      " 13  country                     250306 non-null  object \n",
      " 14  ticket_issued_date          250306 non-null  object \n",
      " 15  hearing_date                237815 non-null  object \n",
      " 16  violation_code              250306 non-null  object \n",
      " 17  violation_description       250306 non-null  object \n",
      " 18  disposition                 250306 non-null  object \n",
      " 19  fine_amount                 250305 non-null  float64\n",
      " 20  admin_fee                   250306 non-null  float64\n",
      " 21  state_fee                   250306 non-null  float64\n",
      " 22  late_fee                    250306 non-null  float64\n",
      " 23  discount_amount             250306 non-null  float64\n",
      " 24  clean_up_cost               250306 non-null  float64\n",
      " 25  judgment_amount             250306 non-null  float64\n",
      " 26  payment_amount              250306 non-null  float64\n",
      " 27  balance_due                 250306 non-null  float64\n",
      " 28  payment_date                41113 non-null   object \n",
      " 29  payment_status              250306 non-null  object \n",
      " 30  collection_status           36897 non-null   object \n",
      " 31  grafitti_status             1 non-null       object \n",
      " 32  compliance_detail           250306 non-null  object \n",
      " 33  compliance                  159880 non-null  float64\n",
      "dtypes: float64(13), int64(1), object(20)\n",
      "memory usage: 64.9+ MB\n"
     ]
    }
   ],
   "source": [
    "train_data.info()"
   ]
  },
  {
   "cell_type": "code",
   "execution_count": 5,
   "metadata": {},
   "outputs": [
    {
     "data": {
      "text/plain": [
       "Buildings, Safety Engineering & Env Department    157784\n",
       "Department of Public Works                         74717\n",
       "Health Department                                   8903\n",
       "Detroit Police Department                           8900\n",
       "Neighborhood City Halls                                2\n",
       "Name: agency_name, dtype: int64"
      ]
     },
     "execution_count": 5,
     "metadata": {},
     "output_type": "execute_result"
    }
   ],
   "source": [
    "train_data['agency_name'].value_counts()"
   ]
  },
  {
   "cell_type": "markdown",
   "metadata": {},
   "source": [
    "### Drop two rows of 'Neighborhood City Halls' agency"
   ]
  },
  {
   "cell_type": "code",
   "execution_count": 6,
   "metadata": {},
   "outputs": [
    {
     "data": {
      "text/plain": [
       "Buildings, Safety Engineering & Env Department    157784\n",
       "Department of Public Works                         74717\n",
       "Health Department                                   8903\n",
       "Detroit Police Department                           8900\n",
       "Name: agency_name, dtype: int64"
      ]
     },
     "execution_count": 6,
     "metadata": {},
     "output_type": "execute_result"
    }
   ],
   "source": [
    "data_clean = train_data[train_data['agency_name'] != 'Neighborhood City Halls']\n",
    "data_clean['agency_name'].value_counts()"
   ]
  },
  {
   "cell_type": "markdown",
   "metadata": {},
   "source": [
    "### Drop null values of state column"
   ]
  },
  {
   "cell_type": "code",
   "execution_count": 7,
   "metadata": {},
   "outputs": [
    {
     "name": "stderr",
     "output_type": "stream",
     "text": [
      "<ipython-input-7-21ca13fd2236>:1: SettingWithCopyWarning: \n",
      "A value is trying to be set on a copy of a slice from a DataFrame\n",
      "\n",
      "See the caveats in the documentation: https://pandas.pydata.org/pandas-docs/stable/user_guide/indexing.html#returning-a-view-versus-a-copy\n",
      "  data_clean.dropna(subset=['state'],inplace = True)\n"
     ]
    },
    {
     "data": {
      "text/plain": [
       "250211"
      ]
     },
     "execution_count": 7,
     "metadata": {},
     "output_type": "execute_result"
    }
   ],
   "source": [
    "data_clean.dropna(subset=['state'],inplace = True)\n",
    "len(data_clean)"
   ]
  },
  {
   "cell_type": "markdown",
   "metadata": {},
   "source": [
    "### Drop Not responsible rows from data set"
   ]
  },
  {
   "cell_type": "code",
   "execution_count": 8,
   "metadata": {},
   "outputs": [
    {
     "name": "stderr",
     "output_type": "stream",
     "text": [
      "<ipython-input-8-effff2c99f49>:1: SettingWithCopyWarning: \n",
      "A value is trying to be set on a copy of a slice from a DataFrame\n",
      "\n",
      "See the caveats in the documentation: https://pandas.pydata.org/pandas-docs/stable/user_guide/indexing.html#returning-a-view-versus-a-copy\n",
      "  data_clean.dropna(subset=['compliance'],inplace = True)\n"
     ]
    },
    {
     "data": {
      "text/plain": [
       "159795"
      ]
     },
     "execution_count": 8,
     "metadata": {},
     "output_type": "execute_result"
    }
   ],
   "source": [
    "data_clean.dropna(subset=['compliance'],inplace = True)\n",
    "len(data_clean)"
   ]
  },
  {
   "cell_type": "markdown",
   "metadata": {},
   "source": [
    "### Choose the most suitable features to train the model"
   ]
  },
  {
   "cell_type": "code",
   "execution_count": 9,
   "metadata": {},
   "outputs": [
    {
     "name": "stdout",
     "output_type": "stream",
     "text": [
      "<class 'pandas.core.frame.DataFrame'>\n",
      "Int64Index: 159795 entries, 0 to 250293\n",
      "Data columns (total 15 columns):\n",
      " #   Column              Non-Null Count   Dtype  \n",
      "---  ------              --------------   -----  \n",
      " 0   agency_name         159795 non-null  object \n",
      " 1   state               159795 non-null  object \n",
      " 2   ticket_issued_date  159795 non-null  object \n",
      " 3   hearing_date        159568 non-null  object \n",
      " 4   disposition         159795 non-null  object \n",
      " 5   fine_amount         159795 non-null  float64\n",
      " 6   admin_fee           159795 non-null  float64\n",
      " 7   state_fee           159795 non-null  float64\n",
      " 8   late_fee            159795 non-null  float64\n",
      " 9   discount_amount     159795 non-null  float64\n",
      " 10  clean_up_cost       159795 non-null  float64\n",
      " 11  judgment_amount     159795 non-null  float64\n",
      " 12  payment_amount      159795 non-null  float64\n",
      " 13  balance_due         159795 non-null  float64\n",
      " 14  compliance          159795 non-null  float64\n",
      "dtypes: float64(10), object(5)\n",
      "memory usage: 19.5+ MB\n"
     ]
    }
   ],
   "source": [
    "data_clean = data_clean.iloc[:,[1,10,14,15,18,19,20,21,22,23,24,25,26,27,33]]\n",
    "data_clean.info()"
   ]
  },
  {
   "cell_type": "markdown",
   "metadata": {},
   "source": [
    "### Edit Date columns to use as features"
   ]
  },
  {
   "cell_type": "code",
   "execution_count": 10,
   "metadata": {},
   "outputs": [
    {
     "data": {
      "text/plain": [
       "agency_name           0\n",
       "state                 0\n",
       "ticket_issued_date    0\n",
       "hearing_date          0\n",
       "disposition           0\n",
       "fine_amount           0\n",
       "admin_fee             0\n",
       "state_fee             0\n",
       "late_fee              0\n",
       "discount_amount       0\n",
       "clean_up_cost         0\n",
       "judgment_amount       0\n",
       "payment_amount        0\n",
       "balance_due           0\n",
       "compliance            0\n",
       "dtype: int64"
      ]
     },
     "execution_count": 10,
     "metadata": {},
     "output_type": "execute_result"
    }
   ],
   "source": [
    "data_clean['hearing_date'].fillna(method = 'ffill',inplace=True)\n",
    "data_clean['compliance'].fillna(2,inplace=True)\n",
    "data_clean['fine_amount'].fillna(method = 'ffill',inplace=True)\n",
    "data_clean.isna().sum()"
   ]
  },
  {
   "cell_type": "code",
   "execution_count": 11,
   "metadata": {},
   "outputs": [
    {
     "data": {
      "text/html": [
       "<div>\n",
       "<style scoped>\n",
       "    .dataframe tbody tr th:only-of-type {\n",
       "        vertical-align: middle;\n",
       "    }\n",
       "\n",
       "    .dataframe tbody tr th {\n",
       "        vertical-align: top;\n",
       "    }\n",
       "\n",
       "    .dataframe thead th {\n",
       "        text-align: right;\n",
       "    }\n",
       "</style>\n",
       "<table border=\"1\" class=\"dataframe\">\n",
       "  <thead>\n",
       "    <tr style=\"text-align: right;\">\n",
       "      <th></th>\n",
       "      <th>ticket_issued_date</th>\n",
       "      <th>hearing_date</th>\n",
       "    </tr>\n",
       "  </thead>\n",
       "  <tbody>\n",
       "    <tr>\n",
       "      <th>0</th>\n",
       "      <td>2004-03-16 11:40:00</td>\n",
       "      <td>2005-03-21 10:30:00</td>\n",
       "    </tr>\n",
       "    <tr>\n",
       "      <th>1</th>\n",
       "      <td>2004-04-23 12:30:00</td>\n",
       "      <td>2005-05-06 13:30:00</td>\n",
       "    </tr>\n",
       "    <tr>\n",
       "      <th>5</th>\n",
       "      <td>2004-05-01 11:50:00</td>\n",
       "      <td>2005-03-21 10:30:00</td>\n",
       "    </tr>\n",
       "    <tr>\n",
       "      <th>6</th>\n",
       "      <td>2004-06-14 14:15:00</td>\n",
       "      <td>2005-02-22 15:00:00</td>\n",
       "    </tr>\n",
       "    <tr>\n",
       "      <th>7</th>\n",
       "      <td>2004-06-16 12:30:00</td>\n",
       "      <td>2005-02-22 15:00:00</td>\n",
       "    </tr>\n",
       "  </tbody>\n",
       "</table>\n",
       "</div>"
      ],
      "text/plain": [
       "   ticket_issued_date        hearing_date\n",
       "0 2004-03-16 11:40:00 2005-03-21 10:30:00\n",
       "1 2004-04-23 12:30:00 2005-05-06 13:30:00\n",
       "5 2004-05-01 11:50:00 2005-03-21 10:30:00\n",
       "6 2004-06-14 14:15:00 2005-02-22 15:00:00\n",
       "7 2004-06-16 12:30:00 2005-02-22 15:00:00"
      ]
     },
     "execution_count": 11,
     "metadata": {},
     "output_type": "execute_result"
    }
   ],
   "source": [
    "data_clean['ticket_issued_date'] = pd.to_datetime(data_clean['ticket_issued_date'],format=\"%Y-%m-%d\")\n",
    "data_clean['hearing_date'] = pd.to_datetime(data_clean['hearing_date'],format=\"%Y-%m-%d\")\n",
    "data_clean[['ticket_issued_date','hearing_date']].head()"
   ]
  },
  {
   "cell_type": "code",
   "execution_count": 13,
   "metadata": {},
   "outputs": [
    {
     "data": {
      "text/plain": [
       "agency_name                    object\n",
       "state                          object\n",
       "ticket_issued_date     datetime64[ns]\n",
       "hearing_date           datetime64[ns]\n",
       "disposition                    object\n",
       "fine_amount                   float64\n",
       "admin_fee                     float64\n",
       "state_fee                     float64\n",
       "late_fee                      float64\n",
       "discount_amount               float64\n",
       "clean_up_cost                 float64\n",
       "judgment_amount               float64\n",
       "payment_amount                float64\n",
       "balance_due                   float64\n",
       "compliance                    float64\n",
       "ticket_issued_year              int64\n",
       "ticket_issued_month             int64\n",
       "ticket_issued_day               int64\n",
       "hearing_date_year               int64\n",
       "hearing_date_month              int64\n",
       "hearing_date_day                int64\n",
       "dtype: object"
      ]
     },
     "execution_count": 13,
     "metadata": {},
     "output_type": "execute_result"
    }
   ],
   "source": [
    "data_clean['ticket_issued_year'] = data_clean['ticket_issued_date'].dt.year\n",
    "data_clean['ticket_issued_month'] = data_clean['ticket_issued_date'].dt.month\n",
    "data_clean['ticket_issued_day'] = data_clean['ticket_issued_date'].dt.day\n",
    "\n",
    "data_clean['hearing_date_year'] = data_clean['hearing_date'].dt.year\n",
    "data_clean['hearing_date_month'] = data_clean['hearing_date'].dt.month\n",
    "data_clean['hearing_date_day'] = data_clean['hearing_date'].dt.day\n",
    "data_clean.dtypes"
   ]
  },
  {
   "cell_type": "markdown",
   "metadata": {},
   "source": [
    "### Downsampling the dataset"
   ]
  },
  {
   "cell_type": "code",
   "execution_count": 14,
   "metadata": {},
   "outputs": [],
   "source": [
    "true_label = data_clean[data_clean['compliance'] == 1]\n",
    "false_label = data_clean[data_clean['compliance'] == 0]"
   ]
  },
  {
   "cell_type": "code",
   "execution_count": 16,
   "metadata": {},
   "outputs": [],
   "source": [
    "from sklearn.utils import resample\n",
    "true_downsampled = resample(true_label,replace=False,n_samples=10000,random_state=42)\n",
    "false_downsampled = resample(false_label,replace=False,n_samples=10000,random_state=42)"
   ]
  },
  {
   "cell_type": "code",
   "execution_count": 17,
   "metadata": {
    "scrolled": true
   },
   "outputs": [
    {
     "data": {
      "text/plain": [
       "(20000, 21)"
      ]
     },
     "execution_count": 17,
     "metadata": {},
     "output_type": "execute_result"
    }
   ],
   "source": [
    "data_clean = pd.concat([true_downsampled,false_downsampled])\n",
    "data_clean.shape"
   ]
  },
  {
   "cell_type": "markdown",
   "metadata": {},
   "source": [
    "### Specifie target column and Features columns"
   ]
  },
  {
   "cell_type": "code",
   "execution_count": 18,
   "metadata": {},
   "outputs": [],
   "source": [
    "y = data_clean['compliance'].astype('int64')\n",
    "data_clean.drop(['ticket_issued_date','hearing_date','compliance'],axis = 1,inplace=True)\n",
    "X = pd.get_dummies(data_clean,columns=['agency_name','state','disposition'])"
   ]
  },
  {
   "cell_type": "markdown",
   "metadata": {},
   "source": [
    "### Build an intial random froest decision tree"
   ]
  },
  {
   "cell_type": "code",
   "execution_count": 27,
   "metadata": {},
   "outputs": [
    {
     "name": "stdout",
     "output_type": "stream",
     "text": [
      "the train score is :0.93 \n",
      "the test score is :0.92\n",
      "the area under the curve score is :0.92\n"
     ]
    }
   ],
   "source": [
    "import pandas as pd\n",
    "import numpy as np\n",
    "from sklearn.model_selection import train_test_split,GridSearchCV\n",
    "from sklearn.ensemble import RandomForestClassifier\n",
    "from sklearn.metrics import roc_auc_score\n",
    "\n",
    "    \n",
    "X_train,X_test,y_train,y_test = train_test_split(X,y,random_state=0)\n",
    "    \n",
    "RF = RandomForestClassifier(max_depth=8,n_estimators=800).fit(X_train,y_train)\n",
    "    \n",
    "\n",
    "y_pred = RF.predict(X_test)\n",
    "train_score = RF.score(X_train,y_train)\n",
    "test_score = RF.score(X_test,y_test)\n",
    "score = roc_auc_score(y_test,y_pred)\n",
    "print(\"the train score is :{:.2f} \".format(train_score))\n",
    "print(\"the test score is :{:.2f}\".format(test_score))\n",
    "print(\"the area under the curve score is :{:.2f}\".format(score))"
   ]
  },
  {
   "cell_type": "markdown",
   "metadata": {},
   "source": [
    "### Use Grid scearch to find the optimel pramters"
   ]
  },
  {
   "cell_type": "code",
   "execution_count": 28,
   "metadata": {},
   "outputs": [
    {
     "name": "stdout",
     "output_type": "stream",
     "text": [
      "the best max depth is 24 /n the best number of estimtors is 500 \n",
      "\n",
      "the area under the curve score is :0.92\n"
     ]
    }
   ],
   "source": [
    "grad_pram = {'max_depth':[8,16,24,32],\n",
    "            'n_estimators':[100,500,1000,2000]}\n",
    "    \n",
    "GS = GridSearchCV(RandomForestClassifier(),grad_pram,cv = 5,scoring='accuracy')\n",
    "GS.fit(X_train,y_train)\n",
    "best_pram = GS.best_params_\n",
    "GR = RandomForestClassifier(max_depth=best_pram.get('max_depth'),\\\n",
    "                            n_estimators=best_pram.get('n_estimators')).fit(X_train,y_train)\n",
    "\n",
    "y_predict = RF.predict(X_test)\n",
    "grid_score = roc_auc_score(y_test,y_pred)\n",
    "print(\"the best max depth is {} /n the best number of estimtors is {} \\n\"\\\n",
    "      .format(best_pram.get('max_depth'),best_pram.get('n_estimators')))\n",
    "print(\"the area under the curve score is :{:.2f}\".format(grid_score))"
   ]
  },
  {
   "cell_type": "code",
   "execution_count": null,
   "metadata": {},
   "outputs": [],
   "source": []
  }
 ],
 "metadata": {
  "coursera": {
   "course_slug": "python-machine-learning",
   "graded_item_id": "nNS8l",
   "launcher_item_id": "yWWk7",
   "part_id": "w8BSS"
  },
  "hide_input": false,
  "kernelspec": {
   "display_name": "Python 3",
   "language": "python",
   "name": "python3"
  },
  "language_info": {
   "codemirror_mode": {
    "name": "ipython",
    "version": 3
   },
   "file_extension": ".py",
   "mimetype": "text/x-python",
   "name": "python",
   "nbconvert_exporter": "python",
   "pygments_lexer": "ipython3",
   "version": "3.8.8"
  }
 },
 "nbformat": 4,
 "nbformat_minor": 2
}
